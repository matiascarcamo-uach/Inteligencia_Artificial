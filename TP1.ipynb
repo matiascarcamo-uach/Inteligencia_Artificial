{
 "cells": [
  {
   "cell_type": "markdown",
   "metadata": {},
   "source": [
    "# Trabajo Practico 1"
   ]
  },
  {
   "cell_type": "markdown",
   "metadata": {},
   "source": [
    "<b>Problema</b>: \n",
    "    \n",
    "<p>Tenemos a disposición un dataset con 1338 observaciones (filas) y 7 características (columnas): edad, genero, bmi (body mass index), número de niños, si es fumadora o no, su región y sus gastos en salud.</p>\n",
    "\n",
    "<b>Pregunta</b>:\n",
    "- Entrenar un modelo predictivo que estima los gastos de salud de un hombre de 55 años, sin niño, teniendo un bmi de 42.6, fumador.\n",
    "- Desde un punto de vista del emprendimiento, ¿qué podría ser el valor añadido de este tipo de modelo predictivo? a quién podría servir?\n",
    "- Desde un punto de vista científico y ético, ¿qué críticas podría emitir?"
   ]
  },
  {
   "cell_type": "markdown",
   "metadata": {},
   "source": [
    "### 1. Entrenar un modelo predictivo que estima los gastos de salud de un hombre de 55 años, sin niño, teniendo un bmi de 42.6, fumador."
   ]
  },
  {
   "cell_type": "code",
   "execution_count": 1,
   "metadata": {},
   "outputs": [],
   "source": [
    "from sklearn import linear_model\n",
    "import pandas as pd\n",
    "from sklearn.preprocessing import StandardScaler\n",
    "import statsmodels.api as sm \n",
    "df = pd.read_csv(\"nb1-insurance.csv\")"
   ]
  },
  {
   "cell_type": "code",
   "execution_count": 2,
   "metadata": {
    "scrolled": true
   },
   "outputs": [
    {
     "name": "stdout",
     "output_type": "stream",
     "text": [
      "   age     sex   bmi  children smoker     region  expenses\n",
      "0   19  female  27.9         0    yes  southwest  16884.92\n",
      "1   18    male  33.8         1     no  southeast   1725.55\n",
      "2   28    male  33.0         3     no  southeast   4449.46\n",
      "3   33    male  22.7         0     no  northwest  21984.47\n",
      "4   32    male  28.9         0     no  northwest   3866.86\n"
     ]
    }
   ],
   "source": [
    "print(df.head())"
   ]
  },
  {
   "cell_type": "markdown",
   "metadata": {},
   "source": [
    "Reemplazamos los valores que eran string a valores numericos"
   ]
  },
  {
   "cell_type": "code",
   "execution_count": 3,
   "metadata": {},
   "outputs": [],
   "source": [
    "df.replace({'sex':{'female': 0, 'male':1}}, inplace = True)\n",
    "df.replace({'smoker':{'no': 0, 'yes':1}}, inplace = True)\n",
    "df.replace({'region':{'southwest': 0, 'southeast':1, 'northwest':2, 'northeast':3}}, inplace = True)"
   ]
  },
  {
   "cell_type": "code",
   "execution_count": 4,
   "metadata": {},
   "outputs": [
    {
     "name": "stdout",
     "output_type": "stream",
     "text": [
      "                            OLS Regression Results                            \n",
      "==============================================================================\n",
      "Dep. Variable:               expenses   R-squared:                       0.341\n",
      "Model:                            OLS   Adj. R-squared:                  0.338\n",
      "Method:                 Least Squares   F-statistic:                     137.7\n",
      "Date:                Tue, 28 Aug 2018   Prob (F-statistic):          8.13e-118\n",
      "Time:                        11:56:28   Log-Likelihood:                -14727.\n",
      "No. Observations:                1338   AIC:                         2.946e+04\n",
      "Df Residuals:                    1333   BIC:                         2.949e+04\n",
      "Df Model:                           5                                         \n",
      "Covariance Type:            nonrobust                                         \n",
      "==============================================================================\n",
      "                 coef    std err          t      P>|t|      [0.025      0.975]\n",
      "------------------------------------------------------------------------------\n",
      "x1          3619.5908    402.544      8.992      0.000    2829.903    4409.279\n",
      "x2           -64.3371    401.299     -0.160      0.873    -851.583     722.909\n",
      "x3          1965.6982    402.434      4.885      0.000    1176.225    2755.171\n",
      "x4           571.9154    399.976      1.430      0.153    -212.736    1356.567\n",
      "x5          9613.3311    400.817     23.984      0.000    8827.030    1.04e+04\n",
      "==============================================================================\n",
      "Omnibus:                      301.233   Durbin-Watson:                   0.360\n",
      "Prob(Omnibus):                  0.000   Jarque-Bera (JB):              720.877\n",
      "Skew:                           1.215   Prob(JB):                    2.91e-157\n",
      "Kurtosis:                       5.651   Cond. No.                         1.14\n",
      "==============================================================================\n",
      "\n",
      "Warnings:\n",
      "[1] Standard Errors assume that the covariance matrix of the errors is correctly specified.\n"
     ]
    }
   ],
   "source": [
    "scale = StandardScaler()\n",
    "X= df[['age','sex','bmi','children','smoker']]\n",
    "Y= df[['expenses']]\n",
    "\n",
    "X_scaled = scale.fit_transform(X)\n",
    "est = sm.OLS(Y, X_scaled).fit()\n",
    "print(est.summary())"
   ]
  },
  {
   "cell_type": "code",
   "execution_count": 5,
   "metadata": {},
   "outputs": [],
   "source": [
    "test = pd.DataFrame({\n",
    "   'age':55,\n",
    "   'sex':1,\n",
    "   'bmi':42.6,\n",
    "   'children': 0,\n",
    "   'smoker':1\n",
    "},index=[0])\n",
    "test_scaled = scale.transform(test)"
   ]
  },
  {
   "cell_type": "code",
   "execution_count": 6,
   "metadata": {},
   "outputs": [
    {
     "data": {
      "text/plain": [
       "array([[ 1.12447859,  0.98959079,  1.95773094, -0.90861367,  1.97058663]])"
      ]
     },
     "execution_count": 6,
     "metadata": {},
     "output_type": "execute_result"
    }
   ],
   "source": [
    "test_scaled"
   ]
  },
  {
   "cell_type": "code",
   "execution_count": 7,
   "metadata": {},
   "outputs": [],
   "source": [
    "def predict_expenses(sex, age,bmi,children,smoker):\n",
    "    return  -64.3371 * sex + 3619.5908 * age + 9613.3311 * smoker + 1965.6982 * bmi + 571.9154 * children"
   ]
  },
  {
   "cell_type": "code",
   "execution_count": 8,
   "metadata": {},
   "outputs": [
    {
     "data": {
      "text/plain": [
       "25782.127843508166"
      ]
     },
     "execution_count": 8,
     "metadata": {},
     "output_type": "execute_result"
    }
   ],
   "source": [
    "predict_expenses(test_scaled[0][0],test_scaled[0][1],test_scaled[0][2],test_scaled[0][3],test_scaled[0][4])"
   ]
  },
  {
   "cell_type": "markdown",
   "metadata": {},
   "source": [
    "25782.127843508166"
   ]
  },
  {
   "cell_type": "markdown",
   "metadata": {},
   "source": [
    "### 2. Desde un punto de vista del emprendimiento, ¿qué podría ser el valor añadido de este tipo de modelo predictivo? a quién podría servir?"
   ]
  },
  {
   "cell_type": "markdown",
   "metadata": {},
   "source": [
    "Podria servir para evuluar a la gente para ver si es apto para un credito monetario, o incluso para entregar ofertas a algunas personas predeterminadas. Le podria servir a empresas que clasifican gente para entregarles ofertas personalizadas."
   ]
  },
  {
   "cell_type": "markdown",
   "metadata": {},
   "source": [
    "### 3. Desde un punto de vista científico y ético, ¿qué críticas podría emitir?"
   ]
  },
  {
   "cell_type": "markdown",
   "metadata": {},
   "source": [
    "Que los datos muchas veces son recopilados pero no son pedidos directamente a la persona, como su historial de creditos, y esto puede perjudicar a las personas."
   ]
  },
  {
   "cell_type": "code",
   "execution_count": null,
   "metadata": {},
   "outputs": [],
   "source": []
  }
 ],
 "metadata": {
  "kernelspec": {
   "display_name": "Python 3",
   "language": "python",
   "name": "python3"
  },
  "language_info": {
   "codemirror_mode": {
    "name": "ipython",
    "version": 3
   },
   "file_extension": ".py",
   "mimetype": "text/x-python",
   "name": "python",
   "nbconvert_exporter": "python",
   "pygments_lexer": "ipython3",
   "version": "3.6.5"
  }
 },
 "nbformat": 4,
 "nbformat_minor": 2
}
